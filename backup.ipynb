{
 "cells": [
  {
   "cell_type": "code",
   "execution_count": 1,
   "metadata": {},
   "outputs": [],
   "source": [
    "import pandas as pd\n",
    "import numpy as np"
   ]
  },
  {
   "cell_type": "code",
   "execution_count": 7,
   "metadata": {},
   "outputs": [
    {
     "name": "stdout",
     "output_type": "stream",
     "text": [
      "CSV file saved to: /Users/alexatterson/converted_file.csv\n"
     ]
    }
   ],
   "source": [
    "excel_path = '/Users/alexatterson/Downloads/cru-x0.5_timeseries_pr_timeseries_annual_1901-2023_mean_historical_cru_ts4.08_mean.xlsx'\n",
    "\n",
    "# Загрузить Excel-файл\n",
    "df = pd.read_excel(excel_path)\n",
    "\n",
    "# Сохранить как CSV\n",
    "import os\n",
    "\n",
    "# Save the CSV file to a writable directory\n",
    "csv_path = os.path.expanduser('~/converted_file.csv')\n",
    "df.to_csv(csv_path, index=False)\n",
    "print(f\"CSV file saved to: {csv_path}\")\n"
   ]
  }
 ],
 "metadata": {
  "kernelspec": {
   "display_name": "base",
   "language": "python",
   "name": "python3"
  },
  "language_info": {
   "codemirror_mode": {
    "name": "ipython",
    "version": 3
   },
   "file_extension": ".py",
   "mimetype": "text/x-python",
   "name": "python",
   "nbconvert_exporter": "python",
   "pygments_lexer": "ipython3",
   "version": "3.11.5"
  }
 },
 "nbformat": 4,
 "nbformat_minor": 2
}
